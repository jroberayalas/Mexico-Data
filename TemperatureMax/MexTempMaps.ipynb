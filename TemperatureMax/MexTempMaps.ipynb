{
 "cells": [
  {
   "cell_type": "code",
   "execution_count": 1,
   "metadata": {
    "collapsed": false
   },
   "outputs": [],
   "source": [
    "import pandas as pd\n",
    "import folium\n",
    "import numpy as np\n",
    "import cPickle as pickle\n",
    "import pdb\n",
    "from selenium import webdriver"
   ]
  },
  {
   "cell_type": "code",
   "execution_count": 2,
   "metadata": {
    "collapsed": false
   },
   "outputs": [],
   "source": [
    "# Read data\n",
    "data_fname = r'temperature_mex_gov.p'\n",
    "map_data_fname = r'MEX_adm1_tunned.csv'\n",
    "mex_states_geo = r'mexitest700.geojson'\n",
    "\n",
    "\n",
    "temperature = pd.read_pickle(data_fname)\n",
    "mex_admin_div = pd.read_csv(map_data_fname)"
   ]
  },
  {
   "cell_type": "code",
   "execution_count": 3,
   "metadata": {
    "collapsed": true
   },
   "outputs": [],
   "source": [
    "# Make data and geo data files compatible\n",
    "estados_nombres = ['Aguascalientes',\n",
    "                   'Baja California',\n",
    "                   'Baja California Sur',\n",
    "                   'Campeche',\n",
    "                   'Chiapas',\n",
    "                   'Chihuahua',\n",
    "                   'Coahuila',\n",
    "                   'Colima',\n",
    "                   'DF',\n",
    "                   'Durango',\n",
    "                   'Guanajuato',\n",
    "                   'Guerrero',\n",
    "                   'Hidalgo',\n",
    "                   'Jalisco',\n",
    "                   'Michoacán',\n",
    "                   'Morelos',\n",
    "                   'México',\n",
    "                   'Nayarit',\n",
    "                   'Nuevo León',\n",
    "                   'Oaxaca',\n",
    "                   'Puebla',\n",
    "                   'Querétaro',\n",
    "                   'Quintana Roo',\n",
    "                   'San Luis Potosí',\n",
    "                   'Sinaloa',\n",
    "                   'Sonora',\n",
    "                   'Tabasco',\n",
    "                   'Tamaulipas',\n",
    "                   'Tlaxcala',\n",
    "                   'Veracruz',\n",
    "                   'Yucatán',\n",
    "                   'Zacatecas']\n"
   ]
  },
  {
   "cell_type": "code",
   "execution_count": 4,
   "metadata": {
    "collapsed": true
   },
   "outputs": [],
   "source": [
    "def trans_dict(A, B):\n",
    "    \"\"\"\n",
    "    Creates translation dictionary \n",
    "    from A to B\n",
    "    \"\"\"\n",
    "    td = {}\n",
    "    for i, k in enumerate(A):\n",
    "        td[k] = B[i]\n",
    "    return td\n",
    "\n",
    "def encode_names(trans_dict, names):\n",
    "    \"\"\"\n",
    "    \"\"\"\n",
    "    if hasattr(names, \"__iter__\"):\n",
    "        enc_names = []\n",
    "        for name in names:\n",
    "            enc_names.append(trans_dict[name])\n",
    "    else:\n",
    "        enc_names = trans_dict[names]    \n",
    "    return enc_names\n",
    "\n"
   ]
  },
  {
   "cell_type": "code",
   "execution_count": 5,
   "metadata": {
    "collapsed": false
   },
   "outputs": [
    {
     "data": {
      "text/plain": [
       "array(['AGUASCALIENTES', 'BAJA CALIFORNIA', 'BAJA CALIFORNIA SUR',\n",
       "       'CAMPECHE', 'COAHUILA  DE ZARAGOZA', 'COLIMA', 'CHIAPAS',\n",
       "       'CHIHUAHUA', 'DISTRITO FEDERAL', 'DURANGO', 'GUANAJUATO',\n",
       "       'GUERRERO', 'HIDALGO', 'JALISCO', 'M\\xc9XICO',\n",
       "       'MICHOAC\\xc1N DE OCAMPO', 'MORELOS', 'NAYARIT', 'NUEVO LE\\xd3N',\n",
       "       'OAXACA', 'PUEBLA', 'QUER\\xc9TARO', 'QUINTANA ROO',\n",
       "       'SAN LUIS POTOS\\xcd', 'SINALOA', 'SONORA', 'TABASCO', 'TAMAULIPAS',\n",
       "       'TLAXCALA', 'VERACRUZ DE IGNACIO DE LA LLAVE', 'YUCAT\\xc1N',\n",
       "       'ZACATECAS'], \n",
       "      dtype='|S31')"
      ]
     },
     "execution_count": 5,
     "metadata": {},
     "output_type": "execute_result"
    }
   ],
   "source": [
    "temperature.ENTIDAD[:32].values.astype('str')"
   ]
  },
  {
   "cell_type": "code",
   "execution_count": 6,
   "metadata": {
    "collapsed": false
   },
   "outputs": [],
   "source": [
    "#short_names = trans_dict(estados_nombres,mex_admin_div.HASC_1)\n",
    "short_names = trans_dict(temperature.ENTIDAD[:32].astype('str'), mex_admin_div.HASC_1)\n",
    "\n",
    "def encode_mx_names(name):\n",
    "    return encode_names(short_names, name)"
   ]
  },
  {
   "cell_type": "code",
   "execution_count": 7,
   "metadata": {
    "collapsed": false
   },
   "outputs": [],
   "source": [
    "temperature['HASC_1'] = temperature.ENTIDAD.apply(encode_mx_names)\n",
    "temperature.rename(columns={'TEMPERATURA':'maxtmp'}, inplace=True)\n",
    "temperature.rename(columns={'AÑO':'YEAR'}, inplace=True)"
   ]
  },
  {
   "cell_type": "code",
   "execution_count": 8,
   "metadata": {
    "collapsed": true
   },
   "outputs": [],
   "source": [
    "statell = ((21.8853, -102.2915),\n",
    "           (30.8406, -115.2838),\n",
    "           (26.0444, -111.6661),\n",
    "           (18.9312, -90.2618 ),\n",
    "           (27.0587, -101.7068),\n",
    "           (19.1223, -104.0072),\n",
    "           (16.7569, -93.1292),\n",
    "           (28.6330, -106.0691),\n",
    "           (19.4326, -99.1332),                      \n",
    "           (24.2753, -104.8801),#Google is wrong\n",
    "           (21.0190, -101.2574),\n",
    "           (17.4392, -99.5451),           \n",
    "           (20.0911, -98.7624),           \n",
    "           (20.6595, -103.3494),           \n",
    "           (19.4969, -99.7233),           \n",
    "           (19.5665, -101.7068),           \n",
    "           (18.6813, -99.1013),           \n",
    "           (21.7514, -104.8455),           \n",
    "           (25.5922, -99.9962),           \n",
    "           (17.0542, -96.7132),           \n",
    "           (19.0413, -98.2062),           \n",
    "           (20.5888, -100.3899),           \n",
    "           (19.1817, -88.4791),           \n",
    "           (22.1566, -100.9855),           \n",
    "           (25.1721, -107.4795),           \n",
    "           (29.2972, -110.3309),           \n",
    "           (17.8409, -92.6189),           \n",
    "           (24.2669, -98.8363),           \n",
    "           (19.3182, -98.2375),\n",
    "           (19.2602, -96.5783),\n",
    "           (20.7099, -89.0943),\n",
    "           (22.7709, -102.5832)           \n",
    "           )"
   ]
  },
  {
   "cell_type": "code",
   "execution_count": 9,
   "metadata": {
    "collapsed": false
   },
   "outputs": [],
   "source": [
    "lat, lon = zip(*statell)"
   ]
  },
  {
   "cell_type": "code",
   "execution_count": 10,
   "metadata": {
    "collapsed": false
   },
   "outputs": [],
   "source": [
    "lats = {}\n",
    "lons = {}\n",
    "for i, k in enumerate(temperature.HASC_1[:32]):\n",
    "    lats[k] = lat[i]\n",
    "    lons[k] = lon[i]    "
   ]
  },
  {
   "cell_type": "code",
   "execution_count": 11,
   "metadata": {
    "collapsed": false
   },
   "outputs": [
    {
     "data": {
      "text/plain": [
       "{'MX.AG': -102.2915,\n",
       " 'MX.BN': -111.6661,\n",
       " 'MX.BS': -115.2838,\n",
       " 'MX.CA': -93.1292,\n",
       " 'MX.CH': -104.0072,\n",
       " 'MX.CL': -106.0691,\n",
       " 'MX.CM': -90.2618,\n",
       " 'MX.CP': -101.7068,\n",
       " 'MX.DF': -99.1332,\n",
       " 'MX.DU': -104.8801,\n",
       " 'MX.GJ': -101.2574,\n",
       " 'MX.GR': -99.5451,\n",
       " 'MX.HI': -98.7624,\n",
       " 'MX.JA': -103.3494,\n",
       " 'MX.MC': -101.7068,\n",
       " 'MX.MR': -99.1013,\n",
       " 'MX.MX': -99.7233,\n",
       " 'MX.NA': -104.8455,\n",
       " 'MX.NL': -99.9962,\n",
       " 'MX.OA': -96.7132,\n",
       " 'MX.PU': -98.2062,\n",
       " 'MX.QE': -100.3899,\n",
       " 'MX.QR': -88.4791,\n",
       " 'MX.SI': -107.4795,\n",
       " 'MX.SL': -100.9855,\n",
       " 'MX.SO': -110.3309,\n",
       " 'MX.TB': -92.6189,\n",
       " 'MX.TL': -98.2375,\n",
       " 'MX.TM': -98.8363,\n",
       " 'MX.VE': -96.5783,\n",
       " 'MX.YU': -89.0943,\n",
       " 'MX.ZA': -102.5832}"
      ]
     },
     "execution_count": 11,
     "metadata": {},
     "output_type": "execute_result"
    }
   ],
   "source": [
    "lons"
   ]
  },
  {
   "cell_type": "code",
   "execution_count": 12,
   "metadata": {
    "collapsed": false
   },
   "outputs": [],
   "source": [
    "def mex_temp(year, month, temp_data=temperature):\n",
    "    \"\"\"\n",
    "    \"\"\"    \n",
    "    if month in temp_data['MES_int'].values:    \n",
    "        tmp = temp_data[(temperature['YEAR'] == year)  & (temperature['MES_int'] == month)]\n",
    "    elif month in temp_data['MES'].values:    \n",
    "        tmp = temp_data[(temperature['YEAR'] == year)  & (temperature['MES'] == month)]\n",
    "            \n",
    "    return tmp\n",
    "\n",
    "    "
   ]
  },
  {
   "cell_type": "code",
   "execution_count": 13,
   "metadata": {
    "collapsed": true
   },
   "outputs": [],
   "source": [
    "def add_markers(sel_map,\n",
    "                data,\n",
    "                lats,\n",
    "                lons,\n",
    "                debug=False,\n",
    "                **kwargs):\n",
    "    \"\"\"\n",
    "    \"\"\"\n",
    "    for k in lats:\n",
    "        tmp_val = data['maxtmp'][data['HASC_1'] == str(k)].values\n",
    "        state = data['ENTIDAD'][data['HASC_1'] == k].values\n",
    "        marker_legend = unicode(str(state[0]) + ': '+ str(tmp_val[0]),\n",
    "                                errors='ignore')\n",
    "        if debug:\n",
    "            print marker_legend\n",
    "        mk = folium.Marker(location=[lats[k], lons[k]],\n",
    "                           popup=marker_legend)\n",
    "        mk.add_to(sel_map)"
   ]
  },
  {
   "cell_type": "code",
   "execution_count": 20,
   "metadata": {
    "collapsed": true
   },
   "outputs": [],
   "source": [
    "%qtconsole"
   ]
  },
  {
   "cell_type": "code",
   "execution_count": 14,
   "metadata": {
    "collapsed": false
   },
   "outputs": [],
   "source": [
    "def create_map(year, \n",
    "               month,\n",
    "               markers=True,\n",
    "               save=False,\n",
    "               debug=False,\n",
    "               **kwargs):\n",
    "    \"\"\"\n",
    "    \"\"\"\n",
    "    opt = {}\n",
    "    opt['name'] = 'noname'\n",
    "    opt.update(kwargs)\n",
    "    \n",
    "    sel_data = mex_temp(year, month)\n",
    "    map_mx = folium.Map(location=[23.53, -102.55], zoom_start=4.5)\n",
    "\n",
    "    map_mx.choropleth(geo_path=mex_states_geo,\n",
    "                      data=sel_data,\n",
    "                      columns=['HASC_1', 'maxtmp'],\n",
    "                      key_on='feature.properties.HASC_1',\n",
    "                      fill_color='OrRd',\n",
    "                      fill_opacity=0.7,\n",
    "                      line_opacity=0.2,\n",
    "                      legend_name='Temperature')\n",
    "    if markers:\n",
    "        add_markers(map_mx,\n",
    "                    sel_data,\n",
    "                    lats,\n",
    "                    lons,\n",
    "                    debug,\n",
    "                    **kwargs)\n",
    "    if save is True:\n",
    "        map_mx.save(opt['name']+'.html')\n",
    "        if screen is True:\n",
    "            browser = webdriver.Firefox()\n",
    "            browser.get(opt['name']+'.html')\n",
    "            #Give the map tiles some time to load\n",
    "            time.sleep(5)\n",
    "            browser.save_screenshot('map.png')\n",
    "            browser.quit()\n",
    "    return map_mx"
   ]
  },
  {
   "cell_type": "code",
   "execution_count": 19,
   "metadata": {
    "collapsed": false
   },
   "outputs": [
    {
     "name": "stderr",
     "output_type": "stream",
     "text": [
      "/Applications/anaconda/lib/python2.7/site-packages/ipykernel/__main__.py:23: FutureWarning: 'threshold_scale' default behavior has changed. Now you get a linear scale between the 'min' and the 'max' of your data. To get former behavior, use folium.utilities.split_six.\n"
     ]
    },
    {
     "ename": "WebDriverException",
     "evalue": "Message: 'Can\\'t load the profile. Profile Dir: /var/folders/d0/h1123zw10cl569yx765cpxp00000gn/T/tmpwIw21t Firefox output: 1468432793766\\taddons.manager\\tDEBUG\\tLoaded provider scope for resource://gre/modules/addons/XPIProvider.jsm: [\"XPIProvider\"]\\n1468432793768\\taddons.manager\\tDEBUG\\tLoaded provider scope for resource://gre/modules/LightweightThemeManager.jsm: [\"LightweightThemeManager\"]\\n1468432793770\\taddons.manager\\tDEBUG\\tLoaded provider scope for resource://gre/modules/addons/GMPProvider.jsm\\n1468432793772\\taddons.manager\\tDEBUG\\tLoaded provider scope for resource://gre/modules/addons/PluginProvider.jsm\\n1468432793772\\taddons.manager\\tDEBUG\\tStarting provider: XPIProvider\\n1468432793773\\taddons.xpi\\tDEBUG\\tstartup\\n1468432793773\\taddons.xpi\\tINFO\\tMapping fxdriver@googlecode.com to /var/folders/d0/h1123zw10cl569yx765cpxp00000gn/T/tmpwIw21t/extensions/fxdriver@googlecode.com\\n1468432793774\\taddons.xpi\\tINFO\\tSystemAddonInstallLocation directory is missing\\n1468432793774\\taddons.xpi\\tINFO\\tMapping e10srollout@mozilla.org to /Applications/Firefox.app/Contents/Resources/browser/features/e10srollout@mozilla.org.xpi\\n1468432793774\\taddons.xpi\\tINFO\\tMapping firefox@getpocket.com to /Applications/Firefox.app/Contents/Resources/browser/features/firefox@getpocket.com.xpi\\n1468432793774\\taddons.xpi\\tINFO\\tMapping loop@mozilla.org to /Applications/Firefox.app/Contents/Resources/browser/features/loop@mozilla.org.xpi\\n1468432793775\\taddons.xpi\\tINFO\\tMapping {972ce4c6-7e08-4474-a285-3208198ce6fd} to /Applications/Firefox.app/Contents/Resources/browser/extensions/{972ce4c6-7e08-4474-a285-3208198ce6fd}.xpi\\n1468432793775\\taddons.xpi\\tDEBUG\\tSkipping unavailable install location app-system-share\\n1468432793776\\taddons.xpi\\tDEBUG\\tcheckForChanges\\n1468432793776\\taddons.xpi\\tDEBUG\\tLoaded add-on state from prefs: {\"app-profile\":{\"fxdriver@googlecode.com\":{\"d\":\"/var/folders/d0/h1123zw10cl569yx765cpxp00000gn/T/tmpwIw21t/extensions/fxdriver@googlecode.com\",\"e\":false,\"v\":\"2.40.0\",\"st\":1468432792000,\"mt\":1468432792000}},\"app-system-defaults\":{\"e10srollout@mozilla.org\":{\"d\":\"/Applications/Firefox.app/Contents/Resources/browser/features/e10srollout@mozilla.org.xpi\",\"e\":true,\"v\":\"1.0\",\"st\":1466527520000},\"firefox@getpocket.com\":{\"d\":\"/Applications/Firefox.app/Contents/Resources/browser/features/firefox@getpocket.com.xpi\",\"e\":true,\"v\":\"1.0.2\",\"st\":1466527520000},\"loop@mozilla.org\":{\"d\":\"/Applications/Firefox.app/Contents/Resources/browser/features/loop@mozilla.org.xpi\",\"e\":true,\"v\":\"1.3.2\",\"st\":1466527520000}},\"app-global\":{\"{972ce4c6-7e08-4474-a285-3208198ce6fd}\":{\"d\":\"/Applications/Firefox.app/Contents/Resources/browser/extensions/{972ce4c6-7e08-4474-a285-3208198ce6fd}.xpi\",\"e\":true,\"v\":\"47.0\",\"st\":1466527520000}}}\\n1468432793777\\taddons.xpi\\tDEBUG\\tExisting add-on fxdriver@googlecode.com in app-profile\\n1468432793777\\taddons.xpi\\tDEBUG\\tgetModTime: Recursive scan of e10srollout@mozilla.org\\n1468432793778\\taddons.xpi\\tDEBUG\\tExisting add-on e10srollout@mozilla.org in app-system-defaults\\n1468432793778\\taddons.xpi\\tDEBUG\\tgetModTime: Recursive scan of firefox@getpocket.com\\n1468432793778\\taddons.xpi\\tDEBUG\\tExisting add-on firefox@getpocket.com in app-system-defaults\\n1468432793778\\taddons.xpi\\tDEBUG\\tgetModTime: Recursive scan of loop@mozilla.org\\n1468432793778\\taddons.xpi\\tDEBUG\\tExisting add-on loop@mozilla.org in app-system-defaults\\n1468432793778\\taddons.xpi\\tDEBUG\\tgetModTime: Recursive scan of {972ce4c6-7e08-4474-a285-3208198ce6fd}\\n1468432793779\\taddons.xpi\\tDEBUG\\tExisting add-on {972ce4c6-7e08-4474-a285-3208198ce6fd} in app-global\\n1468432793779\\taddons.xpi\\tDEBUG\\tgetInstallState changed: false, state: {\"app-profile\":{\"fxdriver@googlecode.com\":{\"d\":\"/var/folders/d0/h1123zw10cl569yx765cpxp00000gn/T/tmpwIw21t/extensions/fxdriver@googlecode.com\",\"e\":false,\"v\":\"2.40.0\",\"st\":1468432792000,\"mt\":1468432792000}},\"app-system-defaults\":{\"e10srollout@mozilla.org\":{\"d\":\"/Applications/Firefox.app/Contents/Resources/browser/features/e10srollout@mozilla.org.xpi\",\"e\":true,\"v\":\"1.0\",\"st\":1466527520000},\"firefox@getpocket.com\":{\"d\":\"/Applications/Firefox.app/Contents/Resources/browser/features/firefox@getpocket.com.xpi\",\"e\":true,\"v\":\"1.0.2\",\"st\":1466527520000},\"loop@mozilla.org\":{\"d\":\"/Applications/Firefox.app/Contents/Resources/browser/features/loop@mozilla.org.xpi\",\"e\":true,\"v\":\"1.3.2\",\"st\":1466527520000}},\"app-global\":{\"{972ce4c6-7e08-4474-a285-3208198ce6fd}\":{\"d\":\"/Applications/Firefox.app/Contents/Resources/browser/extensions/{972ce4c6-7e08-4474-a285-3208198ce6fd}.xpi\",\"e\":true,\"v\":\"47.0\",\"st\":1466527520000}}}\\n1468432793780\\taddons.xpi\\tDEBUG\\tNo changes found\\n1468432793784\\taddons.xpi\\tDEBUG\\tRegistering manifest for /Applications/Firefox.app/Contents/Resources/browser/features/e10srollout@mozilla.org.xpi\\n1468432793784\\taddons.xpi\\tDEBUG\\tLoading bootstrap scope from /Applications/Firefox.app/Contents/Resources/browser/features/e10srollout@mozilla.org.xpi\\n1468432793793\\taddons.xpi\\tDEBUG\\tCalling bootstrap method startup on e10srollout@mozilla.org version 1.0\\n1468432793793\\taddons.xpi\\tDEBUG\\tRegistering manifest for /Applications/Firefox.app/Contents/Resources/browser/features/firefox@getpocket.com.xpi\\n1468432793793\\taddons.xpi\\tDEBUG\\tLoading bootstrap scope from /Applications/Firefox.app/Contents/Resources/browser/features/firefox@getpocket.com.xpi\\n1468432793795\\taddons.xpi\\tDEBUG\\tCalling bootstrap method startup on firefox@getpocket.com version 1.0.2\\n1468432793800\\taddons.xpi-utils\\tDEBUG\\tStarting async load of XPI database /var/folders/d0/h1123zw10cl569yx765cpxp00000gn/T/tmpwIw21t/extensions.json\\n1468432793800\\taddons.xpi\\tDEBUG\\tRegistering manifest for /Applications/Firefox.app/Contents/Resources/browser/features/loop@mozilla.org.xpi\\n1468432793801\\taddons.xpi\\tDEBUG\\tLoading bootstrap scope from /Applications/Firefox.app/Contents/Resources/browser/features/loop@mozilla.org.xpi\\n1468432793806\\taddons.xpi\\tDEBUG\\tCalling bootstrap method startup on loop@mozilla.org version 1.3.2\\n1468432793820\\taddons.manager\\tDEBUG\\tRegistering shutdown blocker for XPIProvider\\n1468432793820\\taddons.manager\\tDEBUG\\tProvider finished startup: XPIProvider\\n1468432793820\\taddons.manager\\tDEBUG\\tStarting provider: LightweightThemeManager\\n1468432793820\\taddons.manager\\tDEBUG\\tRegistering shutdown blocker for LightweightThemeManager\\n1468432793821\\taddons.manager\\tDEBUG\\tProvider finished startup: LightweightThemeManager\\n1468432793821\\taddons.manager\\tDEBUG\\tStarting provider: GMPProvider\\n1468432793825\\taddons.manager\\tDEBUG\\tRegistering shutdown blocker for GMPProvider\\n1468432793825\\taddons.manager\\tDEBUG\\tProvider finished startup: GMPProvider\\n1468432793825\\taddons.manager\\tDEBUG\\tStarting provider: PluginProvider\\n1468432793825\\taddons.manager\\tDEBUG\\tRegistering shutdown blocker for PluginProvider\\n1468432793825\\taddons.manager\\tDEBUG\\tProvider finished startup: PluginProvider\\n1468432793826\\taddons.manager\\tDEBUG\\tCompleted startup sequence\\n1468432793992\\taddons.xpi-utils\\tDEBUG\\tAsync JSON file read took 0 MS\\n1468432793992\\taddons.xpi-utils\\tDEBUG\\tFinished async read of XPI database, parsing...\\n1468432793993\\taddons.xpi-utils\\tDEBUG\\tSuccessfully read XPI database\\n1468432794000\\taddons.manager\\tDEBUG\\tStarting provider: <unnamed-provider>\\n1468432794001\\taddons.manager\\tDEBUG\\tRegistering shutdown blocker for <unnamed-provider>\\n1468432794001\\taddons.manager\\tDEBUG\\tProvider finished startup: <unnamed-provider>\\n*** Blocklist::_loadBlocklistFromFile: blocklist is disabled\\n1468432794078\\taddons.manager\\tDEBUG\\tStarting provider: PreviousExperimentProvider\\n1468432794078\\taddons.manager\\tDEBUG\\tRegistering shutdown blocker for PreviousExperimentProvider\\n1468432794078\\taddons.manager\\tDEBUG\\tProvider finished startup: PreviousExperimentProvider\\n' ",
     "output_type": "error",
     "traceback": [
      "\u001b[0;31m---------------------------------------------------------------------------\u001b[0m",
      "\u001b[0;31mWebDriverException\u001b[0m                        Traceback (most recent call last)",
      "\u001b[0;32m<ipython-input-19-a5b8a6acc000>\u001b[0m in \u001b[0;36m<module>\u001b[0;34m()\u001b[0m\n\u001b[1;32m      5\u001b[0m                         \u001b[0msave\u001b[0m\u001b[0;34m=\u001b[0m\u001b[0mTrue\u001b[0m\u001b[0;34m,\u001b[0m\u001b[0;34m\u001b[0m\u001b[0m\n\u001b[1;32m      6\u001b[0m                         \u001b[0mdebug\u001b[0m\u001b[0;34m=\u001b[0m\u001b[0mFalse\u001b[0m\u001b[0;34m,\u001b[0m\u001b[0;34m\u001b[0m\u001b[0m\n\u001b[0;32m----> 7\u001b[0;31m                         screen=True)\n\u001b[0m",
      "\u001b[0;32m<ipython-input-14-078019174e24>\u001b[0m in \u001b[0;36mcreate_map\u001b[0;34m(year, month, markers, save, debug, **kwargs)\u001b[0m\n\u001b[1;32m     32\u001b[0m         \u001b[0mmap_mx\u001b[0m\u001b[0;34m.\u001b[0m\u001b[0msave\u001b[0m\u001b[0;34m(\u001b[0m\u001b[0mopt\u001b[0m\u001b[0;34m[\u001b[0m\u001b[0;34m'name'\u001b[0m\u001b[0;34m]\u001b[0m\u001b[0;34m+\u001b[0m\u001b[0;34m'.html'\u001b[0m\u001b[0;34m)\u001b[0m\u001b[0;34m\u001b[0m\u001b[0m\n\u001b[1;32m     33\u001b[0m         \u001b[0;32mif\u001b[0m \u001b[0mscreen\u001b[0m \u001b[0;32mis\u001b[0m \u001b[0mTrue\u001b[0m\u001b[0;34m:\u001b[0m\u001b[0;34m\u001b[0m\u001b[0m\n\u001b[0;32m---> 34\u001b[0;31m             \u001b[0mbrowser\u001b[0m \u001b[0;34m=\u001b[0m \u001b[0mwebdriver\u001b[0m\u001b[0;34m.\u001b[0m\u001b[0mFirefox\u001b[0m\u001b[0;34m(\u001b[0m\u001b[0;34m)\u001b[0m\u001b[0;34m\u001b[0m\u001b[0m\n\u001b[0m\u001b[1;32m     35\u001b[0m             \u001b[0mbrowser\u001b[0m\u001b[0;34m.\u001b[0m\u001b[0mget\u001b[0m\u001b[0;34m(\u001b[0m\u001b[0mopt\u001b[0m\u001b[0;34m[\u001b[0m\u001b[0;34m'name'\u001b[0m\u001b[0;34m]\u001b[0m\u001b[0;34m+\u001b[0m\u001b[0;34m'.html'\u001b[0m\u001b[0;34m)\u001b[0m\u001b[0;34m\u001b[0m\u001b[0m\n\u001b[1;32m     36\u001b[0m             \u001b[0;31m#Give the map tiles some time to load\u001b[0m\u001b[0;34m\u001b[0m\u001b[0;34m\u001b[0m\u001b[0m\n",
      "\u001b[0;32m/Applications/anaconda/lib/python2.7/site-packages/selenium/webdriver/firefox/webdriver.pyc\u001b[0m in \u001b[0;36m__init__\u001b[0;34m(self, firefox_profile, firefox_binary, timeout, capabilities, proxy)\u001b[0m\n\u001b[1;32m     57\u001b[0m         RemoteWebDriver.__init__(self,\n\u001b[1;32m     58\u001b[0m             command_executor=ExtensionConnection(\"127.0.0.1\", self.profile,\n\u001b[0;32m---> 59\u001b[0;31m             self.binary, timeout),\n\u001b[0m\u001b[1;32m     60\u001b[0m             \u001b[0mdesired_capabilities\u001b[0m\u001b[0;34m=\u001b[0m\u001b[0mcapabilities\u001b[0m\u001b[0;34m,\u001b[0m\u001b[0;34m\u001b[0m\u001b[0m\n\u001b[1;32m     61\u001b[0m             keep_alive=True)\n",
      "\u001b[0;32m/Applications/anaconda/lib/python2.7/site-packages/selenium/webdriver/firefox/extension_connection.pyc\u001b[0m in \u001b[0;36m__init__\u001b[0;34m(self, host, firefox_profile, firefox_binary, timeout)\u001b[0m\n\u001b[1;32m     45\u001b[0m         \u001b[0mself\u001b[0m\u001b[0;34m.\u001b[0m\u001b[0mprofile\u001b[0m\u001b[0;34m.\u001b[0m\u001b[0madd_extension\u001b[0m\u001b[0;34m(\u001b[0m\u001b[0;34m)\u001b[0m\u001b[0;34m\u001b[0m\u001b[0m\n\u001b[1;32m     46\u001b[0m \u001b[0;34m\u001b[0m\u001b[0m\n\u001b[0;32m---> 47\u001b[0;31m         \u001b[0mself\u001b[0m\u001b[0;34m.\u001b[0m\u001b[0mbinary\u001b[0m\u001b[0;34m.\u001b[0m\u001b[0mlaunch_browser\u001b[0m\u001b[0;34m(\u001b[0m\u001b[0mself\u001b[0m\u001b[0;34m.\u001b[0m\u001b[0mprofile\u001b[0m\u001b[0;34m)\u001b[0m\u001b[0;34m\u001b[0m\u001b[0m\n\u001b[0m\u001b[1;32m     48\u001b[0m         \u001b[0m_URL\u001b[0m \u001b[0;34m=\u001b[0m \u001b[0;34m\"http://%s:%d/hub\"\u001b[0m \u001b[0;34m%\u001b[0m \u001b[0;34m(\u001b[0m\u001b[0mHOST\u001b[0m\u001b[0;34m,\u001b[0m \u001b[0mPORT\u001b[0m\u001b[0;34m)\u001b[0m\u001b[0;34m\u001b[0m\u001b[0m\n\u001b[1;32m     49\u001b[0m         RemoteConnection.__init__(\n",
      "\u001b[0;32m/Applications/anaconda/lib/python2.7/site-packages/selenium/webdriver/firefox/firefox_binary.pyc\u001b[0m in \u001b[0;36mlaunch_browser\u001b[0;34m(self, profile)\u001b[0m\n\u001b[1;32m     59\u001b[0m \u001b[0;34m\u001b[0m\u001b[0m\n\u001b[1;32m     60\u001b[0m         \u001b[0mself\u001b[0m\u001b[0;34m.\u001b[0m\u001b[0m_start_from_profile_path\u001b[0m\u001b[0;34m(\u001b[0m\u001b[0mself\u001b[0m\u001b[0;34m.\u001b[0m\u001b[0mprofile\u001b[0m\u001b[0;34m.\u001b[0m\u001b[0mpath\u001b[0m\u001b[0;34m)\u001b[0m\u001b[0;34m\u001b[0m\u001b[0m\n\u001b[0;32m---> 61\u001b[0;31m         \u001b[0mself\u001b[0m\u001b[0;34m.\u001b[0m\u001b[0m_wait_until_connectable\u001b[0m\u001b[0;34m(\u001b[0m\u001b[0;34m)\u001b[0m\u001b[0;34m\u001b[0m\u001b[0m\n\u001b[0m\u001b[1;32m     62\u001b[0m \u001b[0;34m\u001b[0m\u001b[0m\n\u001b[1;32m     63\u001b[0m     \u001b[0;32mdef\u001b[0m \u001b[0mkill\u001b[0m\u001b[0;34m(\u001b[0m\u001b[0mself\u001b[0m\u001b[0;34m)\u001b[0m\u001b[0;34m:\u001b[0m\u001b[0;34m\u001b[0m\u001b[0m\n",
      "\u001b[0;32m/Applications/anaconda/lib/python2.7/site-packages/selenium/webdriver/firefox/firefox_binary.pyc\u001b[0m in \u001b[0;36m_wait_until_connectable\u001b[0;34m(self)\u001b[0m\n\u001b[1;32m    103\u001b[0m                 raise WebDriverException(\"Can't load the profile. Profile \"\n\u001b[1;32m    104\u001b[0m                       \"Dir: %s Firefox output: %s\" % (\n\u001b[0;32m--> 105\u001b[0;31m                           self.profile.path, self._get_firefox_output()))\n\u001b[0m\u001b[1;32m    106\u001b[0m             \u001b[0mcount\u001b[0m \u001b[0;34m+=\u001b[0m \u001b[0;36m1\u001b[0m\u001b[0;34m\u001b[0m\u001b[0m\n\u001b[1;32m    107\u001b[0m             \u001b[0mtime\u001b[0m\u001b[0;34m.\u001b[0m\u001b[0msleep\u001b[0m\u001b[0;34m(\u001b[0m\u001b[0;36m1\u001b[0m\u001b[0;34m)\u001b[0m\u001b[0;34m\u001b[0m\u001b[0m\n",
      "\u001b[0;31mWebDriverException\u001b[0m: Message: 'Can\\'t load the profile. Profile Dir: /var/folders/d0/h1123zw10cl569yx765cpxp00000gn/T/tmpwIw21t Firefox output: 1468432793766\\taddons.manager\\tDEBUG\\tLoaded provider scope for resource://gre/modules/addons/XPIProvider.jsm: [\"XPIProvider\"]\\n1468432793768\\taddons.manager\\tDEBUG\\tLoaded provider scope for resource://gre/modules/LightweightThemeManager.jsm: [\"LightweightThemeManager\"]\\n1468432793770\\taddons.manager\\tDEBUG\\tLoaded provider scope for resource://gre/modules/addons/GMPProvider.jsm\\n1468432793772\\taddons.manager\\tDEBUG\\tLoaded provider scope for resource://gre/modules/addons/PluginProvider.jsm\\n1468432793772\\taddons.manager\\tDEBUG\\tStarting provider: XPIProvider\\n1468432793773\\taddons.xpi\\tDEBUG\\tstartup\\n1468432793773\\taddons.xpi\\tINFO\\tMapping fxdriver@googlecode.com to /var/folders/d0/h1123zw10cl569yx765cpxp00000gn/T/tmpwIw21t/extensions/fxdriver@googlecode.com\\n1468432793774\\taddons.xpi\\tINFO\\tSystemAddonInstallLocation directory is missing\\n1468432793774\\taddons.xpi\\tINFO\\tMapping e10srollout@mozilla.org to /Applications/Firefox.app/Contents/Resources/browser/features/e10srollout@mozilla.org.xpi\\n1468432793774\\taddons.xpi\\tINFO\\tMapping firefox@getpocket.com to /Applications/Firefox.app/Contents/Resources/browser/features/firefox@getpocket.com.xpi\\n1468432793774\\taddons.xpi\\tINFO\\tMapping loop@mozilla.org to /Applications/Firefox.app/Contents/Resources/browser/features/loop@mozilla.org.xpi\\n1468432793775\\taddons.xpi\\tINFO\\tMapping {972ce4c6-7e08-4474-a285-3208198ce6fd} to /Applications/Firefox.app/Contents/Resources/browser/extensions/{972ce4c6-7e08-4474-a285-3208198ce6fd}.xpi\\n1468432793775\\taddons.xpi\\tDEBUG\\tSkipping unavailable install location app-system-share\\n1468432793776\\taddons.xpi\\tDEBUG\\tcheckForChanges\\n1468432793776\\taddons.xpi\\tDEBUG\\tLoaded add-on state from prefs: {\"app-profile\":{\"fxdriver@googlecode.com\":{\"d\":\"/var/folders/d0/h1123zw10cl569yx765cpxp00000gn/T/tmpwIw21t/extensions/fxdriver@googlecode.com\",\"e\":false,\"v\":\"2.40.0\",\"st\":1468432792000,\"mt\":1468432792000}},\"app-system-defaults\":{\"e10srollout@mozilla.org\":{\"d\":\"/Applications/Firefox.app/Contents/Resources/browser/features/e10srollout@mozilla.org.xpi\",\"e\":true,\"v\":\"1.0\",\"st\":1466527520000},\"firefox@getpocket.com\":{\"d\":\"/Applications/Firefox.app/Contents/Resources/browser/features/firefox@getpocket.com.xpi\",\"e\":true,\"v\":\"1.0.2\",\"st\":1466527520000},\"loop@mozilla.org\":{\"d\":\"/Applications/Firefox.app/Contents/Resources/browser/features/loop@mozilla.org.xpi\",\"e\":true,\"v\":\"1.3.2\",\"st\":1466527520000}},\"app-global\":{\"{972ce4c6-7e08-4474-a285-3208198ce6fd}\":{\"d\":\"/Applications/Firefox.app/Contents/Resources/browser/extensions/{972ce4c6-7e08-4474-a285-3208198ce6fd}.xpi\",\"e\":true,\"v\":\"47.0\",\"st\":1466527520000}}}\\n1468432793777\\taddons.xpi\\tDEBUG\\tExisting add-on fxdriver@googlecode.com in app-profile\\n1468432793777\\taddons.xpi\\tDEBUG\\tgetModTime: Recursive scan of e10srollout@mozilla.org\\n1468432793778\\taddons.xpi\\tDEBUG\\tExisting add-on e10srollout@mozilla.org in app-system-defaults\\n1468432793778\\taddons.xpi\\tDEBUG\\tgetModTime: Recursive scan of firefox@getpocket.com\\n1468432793778\\taddons.xpi\\tDEBUG\\tExisting add-on firefox@getpocket.com in app-system-defaults\\n1468432793778\\taddons.xpi\\tDEBUG\\tgetModTime: Recursive scan of loop@mozilla.org\\n1468432793778\\taddons.xpi\\tDEBUG\\tExisting add-on loop@mozilla.org in app-system-defaults\\n1468432793778\\taddons.xpi\\tDEBUG\\tgetModTime: Recursive scan of {972ce4c6-7e08-4474-a285-3208198ce6fd}\\n1468432793779\\taddons.xpi\\tDEBUG\\tExisting add-on {972ce4c6-7e08-4474-a285-3208198ce6fd} in app-global\\n1468432793779\\taddons.xpi\\tDEBUG\\tgetInstallState changed: false, state: {\"app-profile\":{\"fxdriver@googlecode.com\":{\"d\":\"/var/folders/d0/h1123zw10cl569yx765cpxp00000gn/T/tmpwIw21t/extensions/fxdriver@googlecode.com\",\"e\":false,\"v\":\"2.40.0\",\"st\":1468432792000,\"mt\":1468432792000}},\"app-system-defaults\":{\"e10srollout@mozilla.org\":{\"d\":\"/Applications/Firefox.app/Contents/Resources/browser/features/e10srollout@mozilla.org.xpi\",\"e\":true,\"v\":\"1.0\",\"st\":1466527520000},\"firefox@getpocket.com\":{\"d\":\"/Applications/Firefox.app/Contents/Resources/browser/features/firefox@getpocket.com.xpi\",\"e\":true,\"v\":\"1.0.2\",\"st\":1466527520000},\"loop@mozilla.org\":{\"d\":\"/Applications/Firefox.app/Contents/Resources/browser/features/loop@mozilla.org.xpi\",\"e\":true,\"v\":\"1.3.2\",\"st\":1466527520000}},\"app-global\":{\"{972ce4c6-7e08-4474-a285-3208198ce6fd}\":{\"d\":\"/Applications/Firefox.app/Contents/Resources/browser/extensions/{972ce4c6-7e08-4474-a285-3208198ce6fd}.xpi\",\"e\":true,\"v\":\"47.0\",\"st\":1466527520000}}}\\n1468432793780\\taddons.xpi\\tDEBUG\\tNo changes found\\n1468432793784\\taddons.xpi\\tDEBUG\\tRegistering manifest for /Applications/Firefox.app/Contents/Resources/browser/features/e10srollout@mozilla.org.xpi\\n1468432793784\\taddons.xpi\\tDEBUG\\tLoading bootstrap scope from /Applications/Firefox.app/Contents/Resources/browser/features/e10srollout@mozilla.org.xpi\\n1468432793793\\taddons.xpi\\tDEBUG\\tCalling bootstrap method startup on e10srollout@mozilla.org version 1.0\\n1468432793793\\taddons.xpi\\tDEBUG\\tRegistering manifest for /Applications/Firefox.app/Contents/Resources/browser/features/firefox@getpocket.com.xpi\\n1468432793793\\taddons.xpi\\tDEBUG\\tLoading bootstrap scope from /Applications/Firefox.app/Contents/Resources/browser/features/firefox@getpocket.com.xpi\\n1468432793795\\taddons.xpi\\tDEBUG\\tCalling bootstrap method startup on firefox@getpocket.com version 1.0.2\\n1468432793800\\taddons.xpi-utils\\tDEBUG\\tStarting async load of XPI database /var/folders/d0/h1123zw10cl569yx765cpxp00000gn/T/tmpwIw21t/extensions.json\\n1468432793800\\taddons.xpi\\tDEBUG\\tRegistering manifest for /Applications/Firefox.app/Contents/Resources/browser/features/loop@mozilla.org.xpi\\n1468432793801\\taddons.xpi\\tDEBUG\\tLoading bootstrap scope from /Applications/Firefox.app/Contents/Resources/browser/features/loop@mozilla.org.xpi\\n1468432793806\\taddons.xpi\\tDEBUG\\tCalling bootstrap method startup on loop@mozilla.org version 1.3.2\\n1468432793820\\taddons.manager\\tDEBUG\\tRegistering shutdown blocker for XPIProvider\\n1468432793820\\taddons.manager\\tDEBUG\\tProvider finished startup: XPIProvider\\n1468432793820\\taddons.manager\\tDEBUG\\tStarting provider: LightweightThemeManager\\n1468432793820\\taddons.manager\\tDEBUG\\tRegistering shutdown blocker for LightweightThemeManager\\n1468432793821\\taddons.manager\\tDEBUG\\tProvider finished startup: LightweightThemeManager\\n1468432793821\\taddons.manager\\tDEBUG\\tStarting provider: GMPProvider\\n1468432793825\\taddons.manager\\tDEBUG\\tRegistering shutdown blocker for GMPProvider\\n1468432793825\\taddons.manager\\tDEBUG\\tProvider finished startup: GMPProvider\\n1468432793825\\taddons.manager\\tDEBUG\\tStarting provider: PluginProvider\\n1468432793825\\taddons.manager\\tDEBUG\\tRegistering shutdown blocker for PluginProvider\\n1468432793825\\taddons.manager\\tDEBUG\\tProvider finished startup: PluginProvider\\n1468432793826\\taddons.manager\\tDEBUG\\tCompleted startup sequence\\n1468432793992\\taddons.xpi-utils\\tDEBUG\\tAsync JSON file read took 0 MS\\n1468432793992\\taddons.xpi-utils\\tDEBUG\\tFinished async read of XPI database, parsing...\\n1468432793993\\taddons.xpi-utils\\tDEBUG\\tSuccessfully read XPI database\\n1468432794000\\taddons.manager\\tDEBUG\\tStarting provider: <unnamed-provider>\\n1468432794001\\taddons.manager\\tDEBUG\\tRegistering shutdown blocker for <unnamed-provider>\\n1468432794001\\taddons.manager\\tDEBUG\\tProvider finished startup: <unnamed-provider>\\n*** Blocklist::_loadBlocklistFromFile: blocklist is disabled\\n1468432794078\\taddons.manager\\tDEBUG\\tStarting provider: PreviousExperimentProvider\\n1468432794078\\taddons.manager\\tDEBUG\\tRegistering shutdown blocker for PreviousExperimentProvider\\n1468432794078\\taddons.manager\\tDEBUG\\tProvider finished startup: PreviousExperimentProvider\\n' "
     ]
    }
   ],
   "source": [
    "screen=True\n",
    "map_mx_new = create_map(year=1986,\n",
    "                        month=9,\n",
    "                        markers=False,\n",
    "                        save=True,\n",
    "                        debug=False,\n",
    "                        screen=True)"
   ]
  },
  {
   "cell_type": "code",
   "execution_count": 16,
   "metadata": {
    "collapsed": false
   },
   "outputs": [
    {
     "ename": "NameError",
     "evalue": "name 'map_mx_new' is not defined",
     "output_type": "error",
     "traceback": [
      "\u001b[0;31m---------------------------------------------------------------------------\u001b[0m",
      "\u001b[0;31mNameError\u001b[0m                                 Traceback (most recent call last)",
      "\u001b[0;32m<ipython-input-16-ea0168a3c1ee>\u001b[0m in \u001b[0;36m<module>\u001b[0;34m()\u001b[0m\n\u001b[0;32m----> 1\u001b[0;31m \u001b[0mmap_mx_new\u001b[0m\u001b[0;34m\u001b[0m\u001b[0m\n\u001b[0m",
      "\u001b[0;31mNameError\u001b[0m: name 'map_mx_new' is not defined"
     ]
    }
   ],
   "source": [
    "map_mx_new"
   ]
  },
  {
   "cell_type": "code",
   "execution_count": null,
   "metadata": {
    "collapsed": false,
    "scrolled": true
   },
   "outputs": [],
   "source": [
    "map_mx_new2 = create_map(year=1986,\n",
    "                        month=5,\n",
    "                        markers=True,\n",
    "                        save=False,\n",
    "                        debug=False)"
   ]
  },
  {
   "cell_type": "code",
   "execution_count": null,
   "metadata": {
    "collapsed": false
   },
   "outputs": [],
   "source": [
    "map_mx_new2"
   ]
  },
  {
   "cell_type": "code",
   "execution_count": null,
   "metadata": {
    "collapsed": false
   },
   "outputs": [],
   "source": [
    "# Gen maps for all years\n",
    "mx_maps = {}\n",
    "for year in temperature['YEAR'].unique():\n",
    "    mx_maps[year] = {}    \n",
    "    for month in temperature['MES'].unique():\n",
    "        name = str(year) + '_' + str(month)\n",
    "        print year\n",
    "        print month\n",
    "        mx_maps[year][month] = create_map(year=year,\n",
    "                                          month=month,\n",
    "                                          markers=True,\n",
    "                                          save=True,                                          \n",
    "                                          name=name)\n",
    "        "
   ]
  },
  {
   "cell_type": "code",
   "execution_count": null,
   "metadata": {
    "collapsed": false
   },
   "outputs": [],
   "source": [
    "%%HTML\n",
    "<iframe width=\"640\" height=\"480\" src=\"noname.html\"></iframe>"
   ]
  },
  {
   "cell_type": "code",
   "execution_count": null,
   "metadata": {
    "collapsed": true
   },
   "outputs": [],
   "source": []
  }
 ],
 "metadata": {
  "kernelspec": {
   "display_name": "Python 2",
   "language": "python",
   "name": "python2"
  },
  "language_info": {
   "codemirror_mode": {
    "name": "ipython",
    "version": 2
   },
   "file_extension": ".py",
   "mimetype": "text/x-python",
   "name": "python",
   "nbconvert_exporter": "python",
   "pygments_lexer": "ipython2",
   "version": "2.7.12"
  }
 },
 "nbformat": 4,
 "nbformat_minor": 0
}
