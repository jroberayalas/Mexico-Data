{
 "cells": [
  {
   "cell_type": "code",
   "execution_count": 1,
   "metadata": {
    "collapsed": true
   },
   "outputs": [],
   "source": [
    "import pandas as pd"
   ]
  },
  {
   "cell_type": "code",
   "execution_count": 2,
   "metadata": {
    "collapsed": false
   },
   "outputs": [],
   "source": [
    "# Read data from website\n",
    "col_names = ['ENTIDAD', 'AÑO', 'ENERO', 'FEBRERO', 'MARZO', 'ABRIL', 'MAYO', 'JUNIO',\n",
    "             'JULIO', 'AGOSTO', 'SEPTIEMBRE', 'OCTUBRE', 'NOVIEMBRE', 'DICIEMBRE', 'UNIDAD']\n",
    "temperature = pd.read_csv(\"http://201.116.60.46/DatosAbiertos/Temperatura_maxima.csv\",\n",
    "                          header = 0,\n",
    "                          names = col_names\n",
    "                         )"
   ]
  },
  {
   "cell_type": "code",
   "execution_count": 3,
   "metadata": {
    "collapsed": false
   },
   "outputs": [
    {
     "data": {
      "text/html": [
       "<div>\n",
       "<table border=\"1\" class=\"dataframe\">\n",
       "  <thead>\n",
       "    <tr style=\"text-align: right;\">\n",
       "      <th></th>\n",
       "      <th>ENTIDAD</th>\n",
       "      <th>AÑO</th>\n",
       "      <th>ENERO</th>\n",
       "      <th>FEBRERO</th>\n",
       "      <th>MARZO</th>\n",
       "      <th>ABRIL</th>\n",
       "      <th>MAYO</th>\n",
       "      <th>JUNIO</th>\n",
       "      <th>JULIO</th>\n",
       "      <th>AGOSTO</th>\n",
       "      <th>SEPTIEMBRE</th>\n",
       "      <th>OCTUBRE</th>\n",
       "      <th>NOVIEMBRE</th>\n",
       "      <th>DICIEMBRE</th>\n",
       "      <th>UNIDAD</th>\n",
       "    </tr>\n",
       "  </thead>\n",
       "  <tbody>\n",
       "    <tr>\n",
       "      <th>0</th>\n",
       "      <td>AGUASCALIENTES</td>\n",
       "      <td>1985.0</td>\n",
       "      <td>20.712779</td>\n",
       "      <td>23.740903</td>\n",
       "      <td>26.517556</td>\n",
       "      <td>26.513333</td>\n",
       "      <td>30.245694</td>\n",
       "      <td>26.440566</td>\n",
       "      <td>24.571646</td>\n",
       "      <td>25.713025</td>\n",
       "      <td>26.628718</td>\n",
       "      <td>25.651055</td>\n",
       "      <td>24.206026</td>\n",
       "      <td>21.895806</td>\n",
       "      <td>�C</td>\n",
       "    </tr>\n",
       "    <tr>\n",
       "      <th>1</th>\n",
       "      <td>BAJA CALIFORNIA</td>\n",
       "      <td>1985.0</td>\n",
       "      <td>17.562808</td>\n",
       "      <td>19.548684</td>\n",
       "      <td>20.531768</td>\n",
       "      <td>26.056186</td>\n",
       "      <td>26.951639</td>\n",
       "      <td>32.019627</td>\n",
       "      <td>34.452996</td>\n",
       "      <td>34.598735</td>\n",
       "      <td>29.792175</td>\n",
       "      <td>27.084412</td>\n",
       "      <td>21.310611</td>\n",
       "      <td>20.509112</td>\n",
       "      <td>�C</td>\n",
       "    </tr>\n",
       "    <tr>\n",
       "      <th>2</th>\n",
       "      <td>BAJA CALIFORNIA SUR</td>\n",
       "      <td>1985.0</td>\n",
       "      <td>22.659097</td>\n",
       "      <td>24.271991</td>\n",
       "      <td>27.016454</td>\n",
       "      <td>28.987758</td>\n",
       "      <td>31.579313</td>\n",
       "      <td>33.379501</td>\n",
       "      <td>35.283168</td>\n",
       "      <td>35.566273</td>\n",
       "      <td>34.789445</td>\n",
       "      <td>31.879994</td>\n",
       "      <td>27.713117</td>\n",
       "      <td>26.151145</td>\n",
       "      <td>�C</td>\n",
       "    </tr>\n",
       "    <tr>\n",
       "      <th>3</th>\n",
       "      <td>CAMPECHE</td>\n",
       "      <td>1985.0</td>\n",
       "      <td>29.954718</td>\n",
       "      <td>31.793426</td>\n",
       "      <td>34.539973</td>\n",
       "      <td>34.748942</td>\n",
       "      <td>35.790283</td>\n",
       "      <td>34.990676</td>\n",
       "      <td>34.373901</td>\n",
       "      <td>34.654897</td>\n",
       "      <td>33.816518</td>\n",
       "      <td>32.921266</td>\n",
       "      <td>32.362377</td>\n",
       "      <td>30.606336</td>\n",
       "      <td>�C</td>\n",
       "    </tr>\n",
       "    <tr>\n",
       "      <th>4</th>\n",
       "      <td>COAHUILA  DE ZARAGOZA</td>\n",
       "      <td>1985.0</td>\n",
       "      <td>15.060987</td>\n",
       "      <td>19.340677</td>\n",
       "      <td>25.644739</td>\n",
       "      <td>27.624163</td>\n",
       "      <td>31.286655</td>\n",
       "      <td>31.873830</td>\n",
       "      <td>31.997727</td>\n",
       "      <td>32.132009</td>\n",
       "      <td>31.033711</td>\n",
       "      <td>27.792773</td>\n",
       "      <td>25.690451</td>\n",
       "      <td>20.999594</td>\n",
       "      <td>�C</td>\n",
       "    </tr>\n",
       "  </tbody>\n",
       "</table>\n",
       "</div>"
      ],
      "text/plain": [
       "                 ENTIDAD     AÑO      ENERO    FEBRERO      MARZO      ABRIL  \\\n",
       "0         AGUASCALIENTES  1985.0  20.712779  23.740903  26.517556  26.513333   \n",
       "1        BAJA CALIFORNIA  1985.0  17.562808  19.548684  20.531768  26.056186   \n",
       "2    BAJA CALIFORNIA SUR  1985.0  22.659097  24.271991  27.016454  28.987758   \n",
       "3               CAMPECHE  1985.0  29.954718  31.793426  34.539973  34.748942   \n",
       "4  COAHUILA  DE ZARAGOZA  1985.0  15.060987  19.340677  25.644739  27.624163   \n",
       "\n",
       "        MAYO      JUNIO      JULIO     AGOSTO  SEPTIEMBRE    OCTUBRE  \\\n",
       "0  30.245694  26.440566  24.571646  25.713025   26.628718  25.651055   \n",
       "1  26.951639  32.019627  34.452996  34.598735   29.792175  27.084412   \n",
       "2  31.579313  33.379501  35.283168  35.566273   34.789445  31.879994   \n",
       "3  35.790283  34.990676  34.373901  34.654897   33.816518  32.921266   \n",
       "4  31.286655  31.873830  31.997727  32.132009   31.033711  27.792773   \n",
       "\n",
       "   NOVIEMBRE  DICIEMBRE UNIDAD  \n",
       "0  24.206026  21.895806     �C  \n",
       "1  21.310611  20.509112     �C  \n",
       "2  27.713117  26.151145     �C  \n",
       "3  32.362377  30.606336     �C  \n",
       "4  25.690451  20.999594     �C  "
      ]
     },
     "execution_count": 3,
     "metadata": {},
     "output_type": "execute_result"
    }
   ],
   "source": [
    "# Check data was correctly loaded\n",
    "temperature.head()"
   ]
  },
  {
   "cell_type": "code",
   "execution_count": 4,
   "metadata": {
    "collapsed": false
   },
   "outputs": [
    {
     "name": "stdout",
     "output_type": "stream",
     "text": [
      "<class 'pandas.core.frame.DataFrame'>\n",
      "RangeIndex: 993 entries, 0 to 992\n",
      "Data columns (total 15 columns):\n",
      "ENTIDAD       992 non-null object\n",
      "AÑO           992 non-null float64\n",
      "ENERO         992 non-null float64\n",
      "FEBRERO       992 non-null float64\n",
      "MARZO         992 non-null float64\n",
      "ABRIL         992 non-null float64\n",
      "MAYO          992 non-null float64\n",
      "JUNIO         992 non-null float64\n",
      "JULIO         992 non-null float64\n",
      "AGOSTO        992 non-null float64\n",
      "SEPTIEMBRE    992 non-null float64\n",
      "OCTUBRE       960 non-null float64\n",
      "NOVIEMBRE     960 non-null float64\n",
      "DICIEMBRE     960 non-null float64\n",
      "UNIDAD        992 non-null object\n",
      "dtypes: float64(13), object(2)\n",
      "memory usage: 116.4+ KB\n"
     ]
    }
   ],
   "source": [
    "# Quick info on the dataset\n",
    "temperature.info()"
   ]
  },
  {
   "cell_type": "code",
   "execution_count": 5,
   "metadata": {
    "collapsed": true
   },
   "outputs": [],
   "source": [
    "# Delete the 'UNIDAD' column\n",
    "temperature.drop('UNIDAD', axis = 1, inplace = True)"
   ]
  },
  {
   "cell_type": "code",
   "execution_count": 6,
   "metadata": {
    "collapsed": false
   },
   "outputs": [
    {
     "data": {
      "text/plain": [
       "(993, 14)"
      ]
     },
     "execution_count": 6,
     "metadata": {},
     "output_type": "execute_result"
    }
   ],
   "source": [
    "# Check dimensions\n",
    "temperature.shape"
   ]
  },
  {
   "cell_type": "code",
   "execution_count": 7,
   "metadata": {
    "collapsed": false
   },
   "outputs": [],
   "source": [
    "# Gather the dataset\n",
    "temperature = pd.melt(temperature, \n",
    "        id_vars=['ENTIDAD', 'AÑO'], \n",
    "        value_vars = ['ENERO', 'FEBRERO', 'MARZO', 'ABRIL', 'MAYO', 'JUNIO',\n",
    "                      'JULIO', 'AGOSTO', 'SEPTIEMBRE', 'OCTUBRE', 'NOVIEMBRE', 'DICIEMBRE'],\n",
    "        var_name = 'MES',\n",
    "        value_name = 'TEMPERATURA')"
   ]
  },
  {
   "cell_type": "code",
   "execution_count": 8,
   "metadata": {
    "collapsed": false
   },
   "outputs": [],
   "source": [
    "# Drop NaNs\n",
    "temperature.dropna(how='any', inplace=True)"
   ]
  },
  {
   "cell_type": "code",
   "execution_count": 9,
   "metadata": {
    "collapsed": true
   },
   "outputs": [],
   "source": [
    "# Change data type of AÑO\n",
    "temperature['AÑO'] = temperature['AÑO'].astype(int)"
   ]
  },
  {
   "cell_type": "code",
   "execution_count": 10,
   "metadata": {
    "collapsed": false
   },
   "outputs": [],
   "source": [
    "# Convert MES to integer\n",
    "def convertidorMES(mes):\n",
    "    meses = ['ENERO', 'FEBRERO', 'MARZO', 'ABRIL', 'MAYO', 'JUNIO',\n",
    "             'JULIO', 'AGOSTO', 'SEPTIEMBRE', 'OCTUBRE', 'NOVIEMBRE', 'DICIEMBRE']\n",
    "    return meses.index(mes) + 1\n",
    "\n",
    "temperature['MES_int'] = temperature.MES.apply(convertidorMES)"
   ]
  },
  {
   "cell_type": "code",
   "execution_count": 11,
   "metadata": {
    "collapsed": false
   },
   "outputs": [],
   "source": [
    "# Create FECHA column\n",
    "from datetime import datetime\n",
    "\n",
    "x = []\n",
    "for year, month in zip(temperature['AÑO'], temperature['MES_int']):\n",
    "    x.append(datetime(year = year, month = month, day = 1))\n",
    "\n",
    "temperature['FECHA'] = x"
   ]
  },
  {
   "cell_type": "code",
   "execution_count": 12,
   "metadata": {
    "collapsed": false
   },
   "outputs": [
    {
     "data": {
      "text/html": [
       "<div>\n",
       "<table border=\"1\" class=\"dataframe\">\n",
       "  <thead>\n",
       "    <tr style=\"text-align: right;\">\n",
       "      <th></th>\n",
       "      <th>ENTIDAD</th>\n",
       "      <th>AÑO</th>\n",
       "      <th>MES</th>\n",
       "      <th>TEMPERATURA</th>\n",
       "      <th>MES_int</th>\n",
       "      <th>FECHA</th>\n",
       "    </tr>\n",
       "  </thead>\n",
       "  <tbody>\n",
       "    <tr>\n",
       "      <th>0</th>\n",
       "      <td>AGUASCALIENTES</td>\n",
       "      <td>1985</td>\n",
       "      <td>ENERO</td>\n",
       "      <td>20.712779</td>\n",
       "      <td>1</td>\n",
       "      <td>1985-01-01</td>\n",
       "    </tr>\n",
       "    <tr>\n",
       "      <th>1</th>\n",
       "      <td>BAJA CALIFORNIA</td>\n",
       "      <td>1985</td>\n",
       "      <td>ENERO</td>\n",
       "      <td>17.562808</td>\n",
       "      <td>1</td>\n",
       "      <td>1985-01-01</td>\n",
       "    </tr>\n",
       "    <tr>\n",
       "      <th>2</th>\n",
       "      <td>BAJA CALIFORNIA SUR</td>\n",
       "      <td>1985</td>\n",
       "      <td>ENERO</td>\n",
       "      <td>22.659097</td>\n",
       "      <td>1</td>\n",
       "      <td>1985-01-01</td>\n",
       "    </tr>\n",
       "    <tr>\n",
       "      <th>3</th>\n",
       "      <td>CAMPECHE</td>\n",
       "      <td>1985</td>\n",
       "      <td>ENERO</td>\n",
       "      <td>29.954718</td>\n",
       "      <td>1</td>\n",
       "      <td>1985-01-01</td>\n",
       "    </tr>\n",
       "    <tr>\n",
       "      <th>4</th>\n",
       "      <td>COAHUILA  DE ZARAGOZA</td>\n",
       "      <td>1985</td>\n",
       "      <td>ENERO</td>\n",
       "      <td>15.060987</td>\n",
       "      <td>1</td>\n",
       "      <td>1985-01-01</td>\n",
       "    </tr>\n",
       "  </tbody>\n",
       "</table>\n",
       "</div>"
      ],
      "text/plain": [
       "                 ENTIDAD   AÑO    MES  TEMPERATURA  MES_int      FECHA\n",
       "0         AGUASCALIENTES  1985  ENERO    20.712779        1 1985-01-01\n",
       "1        BAJA CALIFORNIA  1985  ENERO    17.562808        1 1985-01-01\n",
       "2    BAJA CALIFORNIA SUR  1985  ENERO    22.659097        1 1985-01-01\n",
       "3               CAMPECHE  1985  ENERO    29.954718        1 1985-01-01\n",
       "4  COAHUILA  DE ZARAGOZA  1985  ENERO    15.060987        1 1985-01-01"
      ]
     },
     "execution_count": 12,
     "metadata": {},
     "output_type": "execute_result"
    }
   ],
   "source": [
    "temperature.head()"
   ]
  },
  {
   "cell_type": "code",
   "execution_count": 15,
   "metadata": {
    "collapsed": false
   },
   "outputs": [
    {
     "data": {
      "text/plain": [
       "13.31845905"
      ]
     },
     "execution_count": 15,
     "metadata": {},
     "output_type": "execute_result"
    }
   ],
   "source": [
    "min(temperature.TEMPERATURA)"
   ]
  },
  {
   "cell_type": "code",
   "execution_count": null,
   "metadata": {
    "collapsed": false
   },
   "outputs": [],
   "source": [
    "temperature.groupby(by = 'ENTIDAD')"
   ]
  },
  {
   "cell_type": "code",
   "execution_count": null,
   "metadata": {
    "collapsed": false
   },
   "outputs": [],
   "source": [
    "import plotly as py\n",
    "import plotly.graph_objs as go\n",
    "\n",
    "py.offline.init_notebook_mode() # run at the start of every ipython notebook so that we can work offline"
   ]
  },
  {
   "cell_type": "code",
   "execution_count": null,
   "metadata": {
    "collapsed": false
   },
   "outputs": [],
   "source": [
    "scatter_plot_trace = go.Scatter(\n",
    "    x = temperature['FECHA'],  \n",
    "    y = temperature['TEMPERATURA'],\n",
    "    mode = \"markers\",  # we want the observations to be points\n",
    "    marker = dict(  # this object describes what the points will look like\n",
    "        size = 4  # this is the size of the points; we could also change the colors\n",
    "    )\n",
    ")\n",
    "\n",
    "traces = [scatter_plot_trace]  # the traces that make up our plot have to be stored in a list, even there is only one\n",
    "\n",
    "scatter_plot_layout = go.Layout(\n",
    "    xaxis = dict(title = 'Fecha'),  # we reuse the names\n",
    "    yaxis = dict(title = 'Temperatura')\n",
    ")\n",
    "\n",
    "fig = go.Figure(data = traces, layout = scatter_plot_layout)  # we build a figure object that takes the traces as an input\n",
    "\n",
    "py.offline.iplot(fig)  # finally we plot the figure object"
   ]
  },
  {
   "cell_type": "code",
   "execution_count": null,
   "metadata": {
    "collapsed": false
   },
   "outputs": [],
   "source": [
    "estados = sorted(list(set(temperature.ENTIDAD)))\n",
    "\n",
    "estados_nombres = ['Aguascalientes',\n",
    "                   'Baja California',\n",
    "                   'Baja California Sur',\n",
    "                   'Campeche',\n",
    "                   'Chiapas',\n",
    "                   'Chihuahua',\n",
    "                   'Coahuila',\n",
    "                   'Colima',\n",
    "                   'DF',\n",
    "                   'Durango',\n",
    "                   'Guanajuato',\n",
    "                   'Guerrero',\n",
    "                   'Hidalgo',\n",
    "                   'Jalisco',\n",
    "                   'Michoacán',\n",
    "                   'Morelos',\n",
    "                   'México',\n",
    "                   'Nayarit',\n",
    "                   'Nuevo León',\n",
    "                   'Oaxaca',\n",
    "                   'Puebla',\n",
    "                   'Querétaro',\n",
    "                   'Quintana Roo',\n",
    "                   'San Luis Potosí',\n",
    "                   'Sinaloa',\n",
    "                   'Sonora',\n",
    "                   'Tabasco',\n",
    "                   'Tamaulipas',\n",
    "                   'Tlaxcala',\n",
    "                   'Veracruz',\n",
    "                   'Yucatán',\n",
    "                   'Zacatecas']\n",
    "\n",
    "title = 'Variacion de Temperatura'\n",
    "\n",
    "def get_spaced_colors(n):\n",
    "    max_value = 16581375 #255**3\n",
    "    interval = int(max_value / n)\n",
    "    colors = [hex(I)[2:].zfill(6) for I in range(0, max_value, interval)]\n",
    "    \n",
    "    return ['rgb' + str((int(i[:2], 16), int(i[2:4], 16), int(i[4:], 16))) for i in colors]\n",
    "\n",
    "colors = get_spaced_colors(31)\n",
    "\n",
    "line_size = [2] * 32\n",
    "\n",
    "traces = []\n",
    "\n",
    "for i in range(len(estados)):\n",
    "    temporal = temperature[temperature.ENTIDAD == estados[i]].sort_values('FECHA')\n",
    "    traces.append(go.Scatter(\n",
    "        x=temporal.FECHA,\n",
    "        y=temporal.TEMPERATURA,\n",
    "        mode='lines+markers',\n",
    "        line=dict(color=colors[i], width=line_size[i]),\n",
    "        showlegend=True,\n",
    "        name=estados_nombres[i],\n",
    "    ))\n",
    "    \n",
    "scatter_plot_layout = go.Layout(\n",
    "    xaxis = dict(title = 'Fecha'),  # we reuse the names\n",
    "    yaxis = dict(title = 'Temperatura')\n",
    ")\n",
    "\n",
    "fig = go.Figure(data = traces, layout = scatter_plot_layout)  # we build a figure object that takes the traces as an input\n",
    "\n",
    "py.offline.iplot(fig)"
   ]
  },
  {
   "cell_type": "code",
   "execution_count": 17,
   "metadata": {
    "collapsed": false
   },
   "outputs": [
    {
     "data": {
      "text/plain": [
       "Index([u'ENTIDAD', u'AÑO', u'MES', u'TEMPERATURA', u'MES_int', u'FECHA'], dtype='object')"
      ]
     },
     "execution_count": 17,
     "metadata": {},
     "output_type": "execute_result"
    }
   ],
   "source": [
    "temperature.columns"
   ]
  },
  {
   "cell_type": "code",
   "execution_count": 19,
   "metadata": {
    "collapsed": false
   },
   "outputs": [
    {
     "data": {
      "text/plain": [
       "0                         AGUASCALIENTES\n",
       "1                        BAJA CALIFORNIA\n",
       "2                    BAJA CALIFORNIA SUR\n",
       "3                               CAMPECHE\n",
       "4                  COAHUILA  DE ZARAGOZA\n",
       "5                                 COLIMA\n",
       "6                                CHIAPAS\n",
       "7                              CHIHUAHUA\n",
       "8                       DISTRITO FEDERAL\n",
       "9                                DURANGO\n",
       "10                            GUANAJUATO\n",
       "11                              GUERRERO\n",
       "12                               HIDALGO\n",
       "13                               JALISCO\n",
       "14                                M�XICO\n",
       "15                   MICHOAC�N DE OCAMPO\n",
       "16                               MORELOS\n",
       "17                               NAYARIT\n",
       "18                            NUEVO LE�N\n",
       "19                                OAXACA\n",
       "20                                PUEBLA\n",
       "21                             QUER�TARO\n",
       "22                          QUINTANA ROO\n",
       "23                       SAN LUIS POTOS�\n",
       "24                               SINALOA\n",
       "25                                SONORA\n",
       "26                               TABASCO\n",
       "27                            TAMAULIPAS\n",
       "28                              TLAXCALA\n",
       "29       VERACRUZ DE IGNACIO DE LA LLAVE\n",
       "                      ...               \n",
       "11853                BAJA CALIFORNIA SUR\n",
       "11854                           CAMPECHE\n",
       "11855              COAHUILA  DE ZARAGOZA\n",
       "11856                             COLIMA\n",
       "11857                            CHIAPAS\n",
       "11858                          CHIHUAHUA\n",
       "11859                   DISTRITO FEDERAL\n",
       "11860                            DURANGO\n",
       "11861                         GUANAJUATO\n",
       "11862                           GUERRERO\n",
       "11863                            HIDALGO\n",
       "11864                            JALISCO\n",
       "11865                             M�XICO\n",
       "11866                MICHOAC�N DE OCAMPO\n",
       "11867                            MORELOS\n",
       "11868                            NAYARIT\n",
       "11869                         NUEVO LE�N\n",
       "11870                             OAXACA\n",
       "11871                             PUEBLA\n",
       "11872                          QUER�TARO\n",
       "11873                       QUINTANA ROO\n",
       "11874                    SAN LUIS POTOS�\n",
       "11875                            SINALOA\n",
       "11876                             SONORA\n",
       "11877                            TABASCO\n",
       "11878                         TAMAULIPAS\n",
       "11879                           TLAXCALA\n",
       "11880    VERACRUZ DE IGNACIO DE LA LLAVE\n",
       "11881                            YUCAT�N\n",
       "11882                          ZACATECAS\n",
       "Name: ENTIDAD, dtype: object"
      ]
     },
     "execution_count": 19,
     "metadata": {},
     "output_type": "execute_result"
    }
   ],
   "source": [
    "temperature.ENTIDAD"
   ]
  },
  {
   "cell_type": "code",
   "execution_count": 23,
   "metadata": {
    "collapsed": false
   },
   "outputs": [],
   "source": [
    "anio =temperature.columns[1]"
   ]
  },
  {
   "cell_type": "code",
   "execution_count": 27,
   "metadata": {
    "collapsed": false
   },
   "outputs": [
    {
     "data": {
      "text/plain": [
       "0        1985\n",
       "1        1985\n",
       "2        1985\n",
       "3        1985\n",
       "4        1985\n",
       "5        1985\n",
       "6        1985\n",
       "7        1985\n",
       "8        1985\n",
       "9        1985\n",
       "10       1985\n",
       "11       1985\n",
       "12       1985\n",
       "13       1985\n",
       "14       1985\n",
       "15       1985\n",
       "16       1985\n",
       "17       1985\n",
       "18       1985\n",
       "19       1985\n",
       "20       1985\n",
       "21       1985\n",
       "22       1985\n",
       "23       1985\n",
       "24       1985\n",
       "25       1985\n",
       "26       1985\n",
       "27       1985\n",
       "28       1985\n",
       "29       1985\n",
       "         ... \n",
       "11853    2014\n",
       "11854    2014\n",
       "11855    2014\n",
       "11856    2014\n",
       "11857    2014\n",
       "11858    2014\n",
       "11859    2014\n",
       "11860    2014\n",
       "11861    2014\n",
       "11862    2014\n",
       "11863    2014\n",
       "11864    2014\n",
       "11865    2014\n",
       "11866    2014\n",
       "11867    2014\n",
       "11868    2014\n",
       "11869    2014\n",
       "11870    2014\n",
       "11871    2014\n",
       "11872    2014\n",
       "11873    2014\n",
       "11874    2014\n",
       "11875    2014\n",
       "11876    2014\n",
       "11877    2014\n",
       "11878    2014\n",
       "11879    2014\n",
       "11880    2014\n",
       "11881    2014\n",
       "11882    2014\n",
       "Name: AÑO, dtype: int64"
      ]
     },
     "execution_count": 27,
     "metadata": {},
     "output_type": "execute_result"
    }
   ],
   "source": [
    "temperature['AÑO']"
   ]
  },
  {
   "cell_type": "code",
   "execution_count": 28,
   "metadata": {
    "collapsed": true
   },
   "outputs": [],
   "source": [
    "temperature.to_pickle('temperature_mex_gov.p')"
   ]
  },
  {
   "cell_type": "code",
   "execution_count": null,
   "metadata": {
    "collapsed": true
   },
   "outputs": [],
   "source": []
  }
 ],
 "metadata": {
  "kernelspec": {
   "display_name": "Python 2",
   "language": "python",
   "name": "python2"
  },
  "language_info": {
   "codemirror_mode": {
    "name": "ipython",
    "version": 2
   },
   "file_extension": ".py",
   "mimetype": "text/x-python",
   "name": "python",
   "nbconvert_exporter": "python",
   "pygments_lexer": "ipython2",
   "version": "2.7.12"
  }
 },
 "nbformat": 4,
 "nbformat_minor": 0
}
