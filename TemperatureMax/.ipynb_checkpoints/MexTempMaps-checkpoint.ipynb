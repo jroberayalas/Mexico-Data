{
 "cells": [
  {
   "cell_type": "code",
   "execution_count": 3,
   "metadata": {
    "collapsed": true
   },
   "outputs": [],
   "source": [
    "import pandas as pd\n",
    "import folium\n",
    "import numpy as np"
   ]
  },
  {
   "cell_type": "code",
   "execution_count": 5,
   "metadata": {
    "collapsed": false
   },
   "outputs": [],
   "source": [
    "# Read data\n",
    "data_fname = 'temperature_mex_gov.p'\n",
    "map_data_fname = '/home/carlos/Downloads/MEX_adm_shp/MEX_adm1_tunned.csv'\n",
    "mex_states_geo = r'/home/carlos/Downloads/mexitest4.geojson'\n",
    "\n",
    "temperature = pd.read_pickle(data_fname)\n",
    "mex_admin_div = pd.read_csv(map_data_fname)"
   ]
  },
  {
   "cell_type": "code",
   "execution_count": 6,
   "metadata": {
    "collapsed": true
   },
   "outputs": [],
   "source": [
    "# Make data and geo data files compatible\n",
    "estados_nombres = ['Aguascalientes',\n",
    "                   'Baja California',\n",
    "                   'Baja California Sur',\n",
    "                   'Campeche',\n",
    "                   'Chiapas',\n",
    "                   'Chihuahua',\n",
    "                   'Coahuila',\n",
    "                   'Colima',\n",
    "                   'DF',\n",
    "                   'Durango',\n",
    "                   'Guanajuato',\n",
    "                   'Guerrero',\n",
    "                   'Hidalgo',\n",
    "                   'Jalisco',\n",
    "                   'Michoacán',\n",
    "                   'Morelos',\n",
    "                   'México',\n",
    "                   'Nayarit',\n",
    "                   'Nuevo León',\n",
    "                   'Oaxaca',\n",
    "                   'Puebla',\n",
    "                   'Querétaro',\n",
    "                   'Quintana Roo',\n",
    "                   'San Luis Potosí',\n",
    "                   'Sinaloa',\n",
    "                   'Sonora',\n",
    "                   'Tabasco',\n",
    "                   'Tamaulipas',\n",
    "                   'Tlaxcala',\n",
    "                   'Veracruz',\n",
    "                   'Yucatán',\n",
    "                   'Zacatecas']\n"
   ]
  },
  {
   "cell_type": "code",
   "execution_count": 49,
   "metadata": {
    "collapsed": true
   },
   "outputs": [],
   "source": [
    "def trans_dict(A, B):\n",
    "    \"\"\"\n",
    "    Creates translation dictionary \n",
    "    from A to B\n",
    "    \"\"\"\n",
    "    td = {}\n",
    "    for i, k in enumerate(A):\n",
    "        td[k] = B[i]\n",
    "    return td\n",
    "\n",
    "def encode_names(trans_dict, names):\n",
    "    \"\"\"\n",
    "    \"\"\"\n",
    "    if hasattr(names, \"__iter__\"):\n",
    "        enc_names = []\n",
    "        for name in names:\n",
    "            enc_names.append(trans_dict[name])\n",
    "    else:\n",
    "        enc_names = trans_dict[names]    \n",
    "    return enc_names\n",
    "\n"
   ]
  },
  {
   "cell_type": "code",
   "execution_count": 63,
   "metadata": {
    "collapsed": false
   },
   "outputs": [
    {
     "data": {
      "text/plain": [
       "array(['AGUASCALIENTES', 'BAJA CALIFORNIA', 'BAJA CALIFORNIA SUR',\n",
       "       'CAMPECHE', 'COAHUILA  DE ZARAGOZA', 'COLIMA', 'CHIAPAS',\n",
       "       'CHIHUAHUA', 'DISTRITO FEDERAL', 'DURANGO', 'GUANAJUATO',\n",
       "       'GUERRERO', 'HIDALGO', 'JALISCO', 'M\\xc9XICO',\n",
       "       'MICHOAC\\xc1N DE OCAMPO', 'MORELOS', 'NAYARIT', 'NUEVO LE\\xd3N',\n",
       "       'OAXACA', 'PUEBLA', 'QUER\\xc9TARO', 'QUINTANA ROO',\n",
       "       'SAN LUIS POTOS\\xcd', 'SINALOA', 'SONORA', 'TABASCO', 'TAMAULIPAS',\n",
       "       'TLAXCALA', 'VERACRUZ DE IGNACIO DE LA LLAVE', 'YUCAT\\xc1N',\n",
       "       'ZACATECAS'], \n",
       "      dtype='|S31')"
      ]
     },
     "execution_count": 63,
     "metadata": {},
     "output_type": "execute_result"
    }
   ],
   "source": [
    "temperature.ENTIDAD[:32].values.astype('str')"
   ]
  },
  {
   "cell_type": "code",
   "execution_count": 64,
   "metadata": {
    "collapsed": false
   },
   "outputs": [],
   "source": [
    "#short_names = trans_dict(estados_nombres,mex_admin_div.HASC_1)\n",
    "short_names = trans_dict(temperature.ENTIDAD[:32].astype('str'), mex_admin_div.HASC_1)\n",
    "\n",
    "def encode_mx_names(name):\n",
    "    return encode_names(short_names, name)"
   ]
  },
  {
   "cell_type": "code",
   "execution_count": 73,
   "metadata": {
    "collapsed": false
   },
   "outputs": [],
   "source": [
    "temperature['HASC_1'] = temperature.ENTIDAD.apply(encode_mx_names)\n",
    "temperature.rename(columns={'TEMPERATURA':'maxtmp'}, inplace=True)\n",
    "temperature.rename(columns={'AÑO':'YEAR'}, inplace=True)"
   ]
  },
  {
   "cell_type": "code",
   "execution_count": 93,
   "metadata": {
    "collapsed": false
   },
   "outputs": [],
   "source": [
    "def mex_temp(year, month, temp_data=temperature):\n",
    "    \"\"\"\n",
    "    \"\"\"\n",
    "    return temp_data[(temperature['YEAR'] == year)  & (temperature['MES_int'] == month)]\n",
    "\n",
    "    "
   ]
  },
  {
   "cell_type": "code",
   "execution_count": 95,
   "metadata": {
    "collapsed": false
   },
   "outputs": [],
   "source": [
    "sep_1986 = mex_temp(1986, 9)"
   ]
  },
  {
   "cell_type": "code",
   "execution_count": null,
   "metadata": {
    "collapsed": true
   },
   "outputs": [],
   "source": [
    "# Create Unites States of Mexico Map Object\n",
    "map_mx = folium.Map(location=[23.53, -102.55], zoom_start=4.5)\n",
    "\n",
    "map_mx.choropleth(geo_path=state_geo,\n",
    "                  data=,\n",
    "                  columns=['HASC_1', 'maxtmp'],\n",
    "                  key_on='feature.properties.HASC_1',\n",
    "                  fill_color='YlGn',\n",
    "                  fill_opacity=0.7,\n",
    "                  line_opacity=0.2,\n",
    "                  legend_name='Temperature ')"
   ]
  }
 ],
 "metadata": {
  "kernelspec": {
   "display_name": "Python 2",
   "language": "python",
   "name": "python2"
  },
  "language_info": {
   "codemirror_mode": {
    "name": "ipython",
    "version": 2
   },
   "file_extension": ".py",
   "mimetype": "text/x-python",
   "name": "python",
   "nbconvert_exporter": "python",
   "pygments_lexer": "ipython2",
   "version": "2.7.11"
  }
 },
 "nbformat": 4,
 "nbformat_minor": 0
}
