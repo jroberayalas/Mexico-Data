{
 "cells": [
  {
   "cell_type": "code",
   "execution_count": null,
   "metadata": {
    "collapsed": true
   },
   "outputs": [],
   "source": [
    "import pandas as pd"
   ]
  },
  {
   "cell_type": "code",
   "execution_count": null,
   "metadata": {
    "collapsed": false
   },
   "outputs": [],
   "source": [
    "# Read data from website\n",
    "col_names = ['ENTIDAD', 'AÑO', 'ENERO', 'FEBRERO', 'MARZO', 'ABRIL', 'MAYO', 'JUNIO',\n",
    "             'JULIO', 'AGOSTO', 'SEPTIEMBRE', 'OCTUBRE', 'NOVIEMBRE', 'DICIEMBRE', 'UNIDAD']\n",
    "temperature = pd.read_csv(\"http://201.116.60.46/DatosAbiertos/Temperatura_maxima.csv\",\n",
    "                          header = 0,\n",
    "                          names = col_names\n",
    "                         )"
   ]
  },
  {
   "cell_type": "code",
   "execution_count": null,
   "metadata": {
    "collapsed": false
   },
   "outputs": [],
   "source": [
    "# Check data was correctly loaded\n",
    "temperature.head()"
   ]
  },
  {
   "cell_type": "code",
   "execution_count": null,
   "metadata": {
    "collapsed": false
   },
   "outputs": [],
   "source": [
    "# Quick info on the dataset\n",
    "temperature.info()"
   ]
  },
  {
   "cell_type": "code",
   "execution_count": null,
   "metadata": {
    "collapsed": true
   },
   "outputs": [],
   "source": [
    "# Delete the 'UNIDAD' column\n",
    "temperature.drop('UNIDAD', axis = 1, inplace = True)"
   ]
  },
  {
   "cell_type": "code",
   "execution_count": null,
   "metadata": {
    "collapsed": false
   },
   "outputs": [],
   "source": [
    "# Check dimensions\n",
    "temperature.shape"
   ]
  },
  {
   "cell_type": "code",
   "execution_count": null,
   "metadata": {
    "collapsed": false
   },
   "outputs": [],
   "source": [
    "# Gather the dataset\n",
    "temperature = pd.melt(temperature, \n",
    "        id_vars=['ENTIDAD', 'AÑO'], \n",
    "        value_vars = ['ENERO', 'FEBRERO', 'MARZO', 'ABRIL', 'MAYO', 'JUNIO',\n",
    "                      'JULIO', 'AGOSTO', 'SEPTIEMBRE', 'OCTUBRE', 'NOVIEMBRE', 'DICIEMBRE'],\n",
    "        var_name = 'MES',\n",
    "        value_name = 'TEMPERATURA')"
   ]
  },
  {
   "cell_type": "code",
   "execution_count": null,
   "metadata": {
    "collapsed": false
   },
   "outputs": [],
   "source": [
    "# Drop NaNs\n",
    "temperature.dropna(how='any', inplace=True)"
   ]
  },
  {
   "cell_type": "code",
   "execution_count": null,
   "metadata": {
    "collapsed": true
   },
   "outputs": [],
   "source": [
    "# Change data type of AÑO\n",
    "temperature['AÑO'] = temperature['AÑO'].astype(int)"
   ]
  },
  {
   "cell_type": "code",
   "execution_count": null,
   "metadata": {
    "collapsed": false
   },
   "outputs": [],
   "source": [
    "# Convert MES to integer\n",
    "def convertidorMES(mes):\n",
    "    meses = ['ENERO', 'FEBRERO', 'MARZO', 'ABRIL', 'MAYO', 'JUNIO',\n",
    "             'JULIO', 'AGOSTO', 'SEPTIEMBRE', 'OCTUBRE', 'NOVIEMBRE', 'DICIEMBRE']\n",
    "    return meses.index(mes) + 1\n",
    "\n",
    "temperature['MES_int'] = temperature.MES.apply(convertidorMES)"
   ]
  },
  {
   "cell_type": "code",
   "execution_count": null,
   "metadata": {
    "collapsed": false
   },
   "outputs": [],
   "source": [
    "# Create FECHA column\n",
    "from datetime import datetime\n",
    "\n",
    "x = []\n",
    "for year, month in zip(temperature['AÑO'], temperature['MES_int']):\n",
    "    x.append(datetime(year = year, month = month, day = 1))\n",
    "\n",
    "temperature['FECHA'] = x"
   ]
  },
  {
   "cell_type": "code",
   "execution_count": null,
   "metadata": {
    "collapsed": false
   },
   "outputs": [],
   "source": [
    "temperature.head()"
   ]
  },
  {
   "cell_type": "code",
   "execution_count": null,
   "metadata": {
    "collapsed": false
   },
   "outputs": [],
   "source": [
    "temperature.groupby(by = 'ENTIDAD')"
   ]
  },
  {
   "cell_type": "code",
   "execution_count": null,
   "metadata": {
    "collapsed": false
   },
   "outputs": [],
   "source": [
    "import plotly as py\n",
    "import plotly.graph_objs as go\n",
    "\n",
    "py.offline.init_notebook_mode() # run at the start of every ipython notebook so that we can work offline"
   ]
  },
  {
   "cell_type": "code",
   "execution_count": null,
   "metadata": {
    "collapsed": false
   },
   "outputs": [],
   "source": [
    "scatter_plot_trace = go.Scatter(\n",
    "    x = temperature['FECHA'],  \n",
    "    y = temperature['TEMPERATURA'],\n",
    "    mode = \"markers\",  # we want the observations to be points\n",
    "    marker = dict(  # this object describes what the points will look like\n",
    "        size = 4  # this is the size of the points; we could also change the colors\n",
    "    )\n",
    ")\n",
    "\n",
    "traces = [scatter_plot_trace]  # the traces that make up our plot have to be stored in a list, even there is only one\n",
    "\n",
    "scatter_plot_layout = go.Layout(\n",
    "    xaxis = dict(title = 'Fecha'),  # we reuse the names\n",
    "    yaxis = dict(title = 'Temperatura')\n",
    ")\n",
    "\n",
    "fig = go.Figure(data = traces, layout = scatter_plot_layout)  # we build a figure object that takes the traces as an input\n",
    "\n",
    "py.offline.iplot(fig)  # finally we plot the figure object"
   ]
  },
  {
   "cell_type": "code",
   "execution_count": null,
   "metadata": {
    "collapsed": false
   },
   "outputs": [],
   "source": [
    "estados = sorted(list(set(temperature.ENTIDAD)))\n",
    "\n",
    "estados_nombres = ['Aguascalientes',\n",
    "                   'Baja California',\n",
    "                   'Baja California Sur',\n",
    "                   'Campeche',\n",
    "                   'Chiapas',\n",
    "                   'Chihuahua',\n",
    "                   'Coahuila',\n",
    "                   'Colima',\n",
    "                   'DF',\n",
    "                   'Durango',\n",
    "                   'Guanajuato',\n",
    "                   'Guerrero',\n",
    "                   'Hidalgo',\n",
    "                   'Jalisco',\n",
    "                   'Michoacán',\n",
    "                   'Morelos',\n",
    "                   'México',\n",
    "                   'Nayarit',\n",
    "                   'Nuevo León',\n",
    "                   'Oaxaca',\n",
    "                   'Puebla',\n",
    "                   'Querétaro',\n",
    "                   'Quintana Roo',\n",
    "                   'San Luis Potosí',\n",
    "                   'Sinaloa',\n",
    "                   'Sonora',\n",
    "                   'Tabasco',\n",
    "                   'Tamaulipas',\n",
    "                   'Tlaxcala',\n",
    "                   'Veracruz',\n",
    "                   'Yucatán',\n",
    "                   'Zacatecas']\n",
    "\n",
    "title = 'Variacion de Temperatura'\n",
    "\n",
    "def get_spaced_colors(n):\n",
    "    max_value = 16581375 #255**3\n",
    "    interval = int(max_value / n)\n",
    "    colors = [hex(I)[2:].zfill(6) for I in range(0, max_value, interval)]\n",
    "    \n",
    "    return ['rgb' + str((int(i[:2], 16), int(i[2:4], 16), int(i[4:], 16))) for i in colors]\n",
    "\n",
    "colors = get_spaced_colors(31)\n",
    "\n",
    "line_size = [2] * 32\n",
    "\n",
    "traces = []\n",
    "\n",
    "for i in range(len(estados)):\n",
    "    temporal = temperature[temperature.ENTIDAD == estados[i]].sort_values('FECHA')\n",
    "    traces.append(go.Scatter(\n",
    "        x=temporal.FECHA,\n",
    "        y=temporal.TEMPERATURA,\n",
    "        mode='lines+markers',\n",
    "        line=dict(color=colors[i], width=line_size[i]),\n",
    "        showlegend=True,\n",
    "        name=estados_nombres[i],\n",
    "    ))\n",
    "    \n",
    "scatter_plot_layout = go.Layout(\n",
    "    xaxis = dict(title = 'Fecha'),  # we reuse the names\n",
    "    yaxis = dict(title = 'Temperatura')\n",
    ")\n",
    "\n",
    "fig = go.Figure(data = traces, layout = scatter_plot_layout)  # we build a figure object that takes the traces as an input\n",
    "\n",
    "py.offline.iplot(fig)"
   ]
  },
  {
   "cell_type": "code",
   "execution_count": 17,
   "metadata": {
    "collapsed": false
   },
   "outputs": [
    {
     "data": {
      "text/plain": [
       "Index([u'ENTIDAD', u'AÑO', u'MES', u'TEMPERATURA', u'MES_int', u'FECHA'], dtype='object')"
      ]
     },
     "execution_count": 17,
     "metadata": {},
     "output_type": "execute_result"
    }
   ],
   "source": [
    "temperature.columns"
   ]
  },
  {
   "cell_type": "code",
   "execution_count": 19,
   "metadata": {
    "collapsed": false
   },
   "outputs": [
    {
     "data": {
      "text/plain": [
       "0                         AGUASCALIENTES\n",
       "1                        BAJA CALIFORNIA\n",
       "2                    BAJA CALIFORNIA SUR\n",
       "3                               CAMPECHE\n",
       "4                  COAHUILA  DE ZARAGOZA\n",
       "5                                 COLIMA\n",
       "6                                CHIAPAS\n",
       "7                              CHIHUAHUA\n",
       "8                       DISTRITO FEDERAL\n",
       "9                                DURANGO\n",
       "10                            GUANAJUATO\n",
       "11                              GUERRERO\n",
       "12                               HIDALGO\n",
       "13                               JALISCO\n",
       "14                                M�XICO\n",
       "15                   MICHOAC�N DE OCAMPO\n",
       "16                               MORELOS\n",
       "17                               NAYARIT\n",
       "18                            NUEVO LE�N\n",
       "19                                OAXACA\n",
       "20                                PUEBLA\n",
       "21                             QUER�TARO\n",
       "22                          QUINTANA ROO\n",
       "23                       SAN LUIS POTOS�\n",
       "24                               SINALOA\n",
       "25                                SONORA\n",
       "26                               TABASCO\n",
       "27                            TAMAULIPAS\n",
       "28                              TLAXCALA\n",
       "29       VERACRUZ DE IGNACIO DE LA LLAVE\n",
       "                      ...               \n",
       "11853                BAJA CALIFORNIA SUR\n",
       "11854                           CAMPECHE\n",
       "11855              COAHUILA  DE ZARAGOZA\n",
       "11856                             COLIMA\n",
       "11857                            CHIAPAS\n",
       "11858                          CHIHUAHUA\n",
       "11859                   DISTRITO FEDERAL\n",
       "11860                            DURANGO\n",
       "11861                         GUANAJUATO\n",
       "11862                           GUERRERO\n",
       "11863                            HIDALGO\n",
       "11864                            JALISCO\n",
       "11865                             M�XICO\n",
       "11866                MICHOAC�N DE OCAMPO\n",
       "11867                            MORELOS\n",
       "11868                            NAYARIT\n",
       "11869                         NUEVO LE�N\n",
       "11870                             OAXACA\n",
       "11871                             PUEBLA\n",
       "11872                          QUER�TARO\n",
       "11873                       QUINTANA ROO\n",
       "11874                    SAN LUIS POTOS�\n",
       "11875                            SINALOA\n",
       "11876                             SONORA\n",
       "11877                            TABASCO\n",
       "11878                         TAMAULIPAS\n",
       "11879                           TLAXCALA\n",
       "11880    VERACRUZ DE IGNACIO DE LA LLAVE\n",
       "11881                            YUCAT�N\n",
       "11882                          ZACATECAS\n",
       "Name: ENTIDAD, dtype: object"
      ]
     },
     "execution_count": 19,
     "metadata": {},
     "output_type": "execute_result"
    }
   ],
   "source": [
    "temperature.ENTIDAD"
   ]
  },
  {
   "cell_type": "code",
   "execution_count": 23,
   "metadata": {
    "collapsed": false
   },
   "outputs": [],
   "source": [
    "anio =temperature.columns[1]"
   ]
  },
  {
   "cell_type": "code",
   "execution_count": 27,
   "metadata": {
    "collapsed": false
   },
   "outputs": [
    {
     "data": {
      "text/plain": [
       "0        1985\n",
       "1        1985\n",
       "2        1985\n",
       "3        1985\n",
       "4        1985\n",
       "5        1985\n",
       "6        1985\n",
       "7        1985\n",
       "8        1985\n",
       "9        1985\n",
       "10       1985\n",
       "11       1985\n",
       "12       1985\n",
       "13       1985\n",
       "14       1985\n",
       "15       1985\n",
       "16       1985\n",
       "17       1985\n",
       "18       1985\n",
       "19       1985\n",
       "20       1985\n",
       "21       1985\n",
       "22       1985\n",
       "23       1985\n",
       "24       1985\n",
       "25       1985\n",
       "26       1985\n",
       "27       1985\n",
       "28       1985\n",
       "29       1985\n",
       "         ... \n",
       "11853    2014\n",
       "11854    2014\n",
       "11855    2014\n",
       "11856    2014\n",
       "11857    2014\n",
       "11858    2014\n",
       "11859    2014\n",
       "11860    2014\n",
       "11861    2014\n",
       "11862    2014\n",
       "11863    2014\n",
       "11864    2014\n",
       "11865    2014\n",
       "11866    2014\n",
       "11867    2014\n",
       "11868    2014\n",
       "11869    2014\n",
       "11870    2014\n",
       "11871    2014\n",
       "11872    2014\n",
       "11873    2014\n",
       "11874    2014\n",
       "11875    2014\n",
       "11876    2014\n",
       "11877    2014\n",
       "11878    2014\n",
       "11879    2014\n",
       "11880    2014\n",
       "11881    2014\n",
       "11882    2014\n",
       "Name: AÑO, dtype: int64"
      ]
     },
     "execution_count": 27,
     "metadata": {},
     "output_type": "execute_result"
    }
   ],
   "source": [
    "temperature['AÑO']"
   ]
  },
  {
   "cell_type": "code",
   "execution_count": 28,
   "metadata": {
    "collapsed": true
   },
   "outputs": [],
   "source": [
    "temperature.to_pickle('temperature_mex_gov.p')"
   ]
  },
  {
   "cell_type": "code",
   "execution_count": null,
   "metadata": {
    "collapsed": true
   },
   "outputs": [],
   "source": []
  }
 ],
 "metadata": {
  "kernelspec": {
   "display_name": "Python 2",
   "language": "python",
   "name": "python2"
  },
  "language_info": {
   "codemirror_mode": {
    "name": "ipython",
    "version": 2
   },
   "file_extension": ".py",
   "mimetype": "text/x-python",
   "name": "python",
   "nbconvert_exporter": "python",
   "pygments_lexer": "ipython2",
   "version": "2.7.11"
  }
 },
 "nbformat": 4,
 "nbformat_minor": 0
}
